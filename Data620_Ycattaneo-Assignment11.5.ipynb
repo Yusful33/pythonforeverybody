{
 "cells": [
  {
   "cell_type": "code",
   "execution_count": 23,
   "metadata": {},
   "outputs": [],
   "source": [
    "import random\n",
    "from emailwrapper import run\n",
    "import collections"
   ]
  },
  {
   "cell_type": "code",
   "execution_count": 33,
   "metadata": {},
   "outputs": [],
   "source": [
    "#Solution for count_dates()\n",
    "def count_dates(filename):\n",
    "    '''\n",
    "    Given a filename for an email box text file, function parses through emails and returns a count for the\n",
    "    number of commits for each day (hint: this is done by looking for the 3rd word after each line that\n",
    "    has the word 'From' in it). \n",
    "    \n",
    "    Output: No return output, only prints the contents of the 'counts' dictionary. \n",
    "    '''\n",
    "    counts = dict()\n",
    "    ##INSERT CODE BELOW\n",
    "    fh = open(filename)\n",
    "    lst = []\n",
    "    for line in fh:\n",
    "        if line.startswith('From'):\n",
    "            lst_word = line.rstrip().split()\n",
    "           # key_word = word[2]\n",
    "            len_word = len(lst_word)\n",
    "            if len_word > 2:\n",
    "                lst.append(lst_word[2])\n",
    "    for i in lst:\n",
    "        if i not in counts:\n",
    "            counts[i] = 1\n",
    "        else:\n",
    "            counts[i] += 1    \n",
    "    ##INSERT CODE ABOVE\n",
    "    print(counts)"
   ]
  },
  {
   "cell_type": "code",
   "execution_count": 49,
   "metadata": {},
   "outputs": [
    {
     "name": "stdout",
     "output_type": "stream",
     "text": [
      "Please enter a integer seed value: 402\n",
      "{'Wed': 61, 'Fri': 315, 'Thu': 392, 'Sat': 292, 'Mon': 372, 'Tue': 299, 'Sun': 66}\n"
     ]
    }
   ],
   "source": [
    "'''\n",
    "Run this cell when you are ready to test your code.\n",
    "We highly recommend you debug your code using your own method call first. You can do this by\n",
    "calling your function on 'mbox-short.txt' first and comparing it to the Severance exercise results.\n",
    "'''\n",
    "run(count_dates)"
   ]
  },
  {
   "cell_type": "code",
   "execution_count": 32,
   "metadata": {},
   "outputs": [
    {
     "name": "stdout",
     "output_type": "stream",
     "text": [
      "{'Sat': 31, 'Fri': 120, 'Thu': 175, 'Wed': 126, 'Tue': 104, 'Mon': 71, 'Sun': 23}\n"
     ]
    }
   ],
   "source": [
    "fname = 'mbox.txt'\n",
    "fh = open(fname)\n",
    "lst = []\n",
    "\n",
    "for line in fh:\n",
    "    if line.startswith('From'):\n",
    "        lst_word = line.rstrip().split()\n",
    "       # key_word = word[2]\n",
    "        len_word = len(lst_word)\n",
    "        if len_word > 2:\n",
    "            lst.append(lst_word[2])\n",
    "days = {}\n",
    "for i in lst:\n",
    "    if i not in days:\n",
    "        days[i] = 1\n",
    "    else:\n",
    "        days[i] += 1\n",
    "print(days)\n",
    "\n",
    "\n",
    "# print (\"Average spam confidence:\", answer)"
   ]
  },
  {
   "cell_type": "code",
   "execution_count": 25,
   "metadata": {},
   "outputs": [
    {
     "name": "stdout",
     "output_type": "stream",
     "text": [
      "Counter({'hey': 2, 'hello': 1})\n"
     ]
    }
   ],
   "source": [
    "import collections\n",
    "words = \"hey hey hello\"\n",
    "c = collections.Counter(words.split())\n",
    "print(c)  # Counter({'hey': 2, 'hello': 1})"
   ]
  },
  {
   "cell_type": "code",
   "execution_count": null,
   "metadata": {},
   "outputs": [],
   "source": []
  }
 ],
 "metadata": {
  "kernelspec": {
   "display_name": "Python 3",
   "language": "python",
   "name": "python3"
  },
  "language_info": {
   "codemirror_mode": {
    "name": "ipython",
    "version": 3
   },
   "file_extension": ".py",
   "mimetype": "text/x-python",
   "name": "python",
   "nbconvert_exporter": "python",
   "pygments_lexer": "ipython3",
   "version": "3.9.1"
  }
 },
 "nbformat": 4,
 "nbformat_minor": 4
}
