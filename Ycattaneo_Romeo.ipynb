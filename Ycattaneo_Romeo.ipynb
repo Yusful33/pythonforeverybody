{
 "cells": [
  {
   "cell_type": "code",
   "execution_count": 2,
   "id": "wireless-personal",
   "metadata": {},
   "outputs": [],
   "source": [
    "import pandas as pd\n",
    "import numpy as np"
   ]
  },
  {
   "cell_type": "code",
   "execution_count": 19,
   "id": "wireless-fireplace",
   "metadata": {},
   "outputs": [
    {
     "name": "stdout",
     "output_type": "stream",
     "text": [
      "You have not entered a valid file please try again\n",
      "[]\n"
     ]
    }
   ],
   "source": [
    "fname = 'rome00000.txt'\n",
    "try:\n",
    "    fh = open(fname)\n",
    "except:\n",
    "    print('You have not entered a valid file please try again')\n",
    "#List for the output\n",
    "lst = [] \n",
    "#loop for each line\n",
    "for line in fh:     \n",
    "    #Strip whitespace and split\n",
    "    word = line.rstrip().split()\n",
    "    #loop for each word\n",
    "    for element in word:\n",
    "        if element in lst:\n",
    "            continue         \n",
    "        else :             \n",
    "            #adding to list if not already part of it\n",
    "            lst.append(element)     \n",
    "#sorting in alphabetical order\n",
    "lst.sort()                  \n",
    "print(lst)"
   ]
  },
  {
   "cell_type": "code",
   "execution_count": null,
   "id": "negative-basket",
   "metadata": {},
   "outputs": [],
   "source": []
  },
  {
   "cell_type": "code",
   "execution_count": null,
   "id": "enabling-shadow",
   "metadata": {},
   "outputs": [],
   "source": []
  },
  {
   "cell_type": "code",
   "execution_count": null,
   "id": "preliminary-messenger",
   "metadata": {},
   "outputs": [],
   "source": []
  }
 ],
 "metadata": {
  "kernelspec": {
   "display_name": "Python 3",
   "language": "python",
   "name": "python3"
  },
  "language_info": {
   "codemirror_mode": {
    "name": "ipython",
    "version": 3
   },
   "file_extension": ".py",
   "mimetype": "text/x-python",
   "name": "python",
   "nbconvert_exporter": "python",
   "pygments_lexer": "ipython3",
   "version": "3.9.1"
  }
 },
 "nbformat": 4,
 "nbformat_minor": 5
}
